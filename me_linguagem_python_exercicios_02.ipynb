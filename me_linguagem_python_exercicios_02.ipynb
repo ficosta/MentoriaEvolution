{
  "nbformat": 4,
  "nbformat_minor": 0,
  "metadata": {
    "colab": {
      "name": "me-linguagem-python-exercicios-02.ipynb",
      "version": "0.3.2",
      "provenance": [],
      "include_colab_link": true
    },
    "kernelspec": {
      "display_name": "Python 3",
      "language": "python",
      "name": "python3"
    }
  },
  "cells": [
    {
      "cell_type": "markdown",
      "metadata": {
        "id": "view-in-github",
        "colab_type": "text"
      },
      "source": [
        "<a href=\"https://colab.research.google.com/github/ficosta/MentoriaEvolution/blob/master/me_linguagem_python_exercicios_02.ipynb\" target=\"_parent\"><img src=\"https://colab.research.google.com/assets/colab-badge.svg\" alt=\"Open In Colab\"/></a>"
      ]
    },
    {
      "metadata": {
        "id": "JchdjPm6jc9J",
        "colab_type": "text"
      },
      "cell_type": "markdown",
      "source": [
        "# Mentoria Evolution - Exercícios Python "
      ]
    },
    {
      "metadata": {
        "id": "s6j7rSg6jc9M",
        "colab_type": "text"
      },
      "cell_type": "markdown",
      "source": [
        "https://minerandodados.com.br"
      ]
    },
    {
      "metadata": {
        "id": "wSNC5jQyjc9O",
        "colab_type": "text"
      },
      "cell_type": "markdown",
      "source": [
        "* Para executar uma célula digite **Control + enter** ou clique em **Run**.\n",
        "* As celulas para rodar script Python devem ser do tipo code.\n",
        "* Crie células abaixo das celulas que foram escrito o enunciado das questões com as respostas."
      ]
    },
    {
      "metadata": {
        "id": "Ik1-eL8qjc9R",
        "colab_type": "text"
      },
      "cell_type": "markdown",
      "source": [
        "**Obs**: Caso de dúvidas, volte na aula anterior de Python. Não desista :)"
      ]
    },
    {
      "metadata": {
        "id": "CJb5qbQfjc9S",
        "colab_type": "text"
      },
      "cell_type": "markdown",
      "source": [
        "## Exercícios de Fixação"
      ]
    },
    {
      "metadata": {
        "id": "JpU_9HvYjc9U",
        "colab_type": "text"
      },
      "cell_type": "markdown",
      "source": [
        "1) Responda: É possível ter elementos de tipos difentes em uma mesma lista? Exemplo: strings e números?"
      ]
    },
    {
      "metadata": {
        "id": "xdlYfeCOj2Ya",
        "colab_type": "code",
        "colab": {}
      },
      "cell_type": "code",
      "source": [
        "# Sim!"
      ],
      "execution_count": 0,
      "outputs": []
    },
    {
      "metadata": {
        "id": "xxp-8X1Ijc9W",
        "colab_type": "text"
      },
      "cell_type": "markdown",
      "source": [
        "2) Trabalhando com Listas, faça:\n",
        "- a) Cria uma lista de valores inteiros com o **nome** e **idades**.\n",
        "- b) Imprima apenas segundo elemento da lista.\n",
        "- c) Imprima a quantidade de elementos da lista.\n",
        "- d) Substitua o valor do segundo elemento da lista e imprima o resultado.\n",
        "- e) Imprima apenas os valores do segundo elemento em diante.\n",
        "- f) Remova qualquer elemento da lista e imprima o resultado.\n",
        "- g) Defina uma lista chamada salarios com os valores : **900,1200,1500,800,12587,10000**.\n",
        "- h) Verifique se contém o valor 10000 na lista de salarios.\n",
        "- i) Imprima o menor e maior valor da lista.\n",
        "- j) Adicione o valor 7000 a lista.\n",
        "- l) Extenda a lista com dois novos elementos utilizando apenas um método.\n",
        "- m) Imprima o índice do elemento de valor 800 da lista de salarios.\n",
        "- n) Faça uma ordenação dos valores da lista de salarios em ordem crescente e decrescente."
      ]
    },
    {
      "metadata": {
        "id": "bHRxYJN8j5X5",
        "colab_type": "code",
        "colab": {}
      },
      "cell_type": "code",
      "source": [
        "# a\n",
        "nome_idade = ['Felipe', 25, 'Marjory', 28, 'Leo', 32]"
      ],
      "execution_count": 0,
      "outputs": []
    },
    {
      "metadata": {
        "id": "v98-GdAWkZq2",
        "colab_type": "code",
        "colab": {
          "base_uri": "https://localhost:8080/",
          "height": 34
        },
        "outputId": "751de9e0-a4de-4288-e405-37a7591cb802"
      },
      "cell_type": "code",
      "source": [
        "print(nome_idade[1])"
      ],
      "execution_count": 6,
      "outputs": [
        {
          "output_type": "stream",
          "text": [
            "25\n"
          ],
          "name": "stdout"
        }
      ]
    },
    {
      "metadata": {
        "id": "UYsYt2IZkb4d",
        "colab_type": "code",
        "colab": {
          "base_uri": "https://localhost:8080/",
          "height": 33
        },
        "outputId": "ee9e4c0f-16b3-4c7a-882b-12a57c52d02c"
      },
      "cell_type": "code",
      "source": [
        "len(nome_idade)"
      ],
      "execution_count": 7,
      "outputs": [
        {
          "output_type": "execute_result",
          "data": {
            "text/plain": [
              "6"
            ]
          },
          "metadata": {
            "tags": []
          },
          "execution_count": 7
        }
      ]
    },
    {
      "metadata": {
        "id": "ABk-nN0gki7Y",
        "colab_type": "code",
        "colab": {}
      },
      "cell_type": "code",
      "source": [
        "nome_idade[1] = 35"
      ],
      "execution_count": 0,
      "outputs": []
    },
    {
      "metadata": {
        "id": "EKSndfclkiyQ",
        "colab_type": "code",
        "colab": {
          "base_uri": "https://localhost:8080/",
          "height": 33
        },
        "outputId": "1780f3b8-f9da-40ec-a2a6-2c2c5913aac3"
      },
      "cell_type": "code",
      "source": [
        "nome_idade.pop(4)\n",
        "print(nome_idade)"
      ],
      "execution_count": 9,
      "outputs": [
        {
          "output_type": "stream",
          "text": [
            "['Felipe', 35, 'Marjory', 28, 32]\n"
          ],
          "name": "stdout"
        }
      ]
    },
    {
      "metadata": {
        "id": "rKk5PxjXkimY",
        "colab_type": "code",
        "colab": {}
      },
      "cell_type": "code",
      "source": [
        "salarios = [900,1200,1500,800,12587,10000]"
      ],
      "execution_count": 0,
      "outputs": []
    },
    {
      "metadata": {
        "id": "kdlqfAA9kiAc",
        "colab_type": "code",
        "colab": {
          "base_uri": "https://localhost:8080/",
          "height": 33
        },
        "outputId": "8ebb50e5-b2e4-41ef-994a-5472f0a86918"
      },
      "cell_type": "code",
      "source": [
        "10000 in salarios"
      ],
      "execution_count": 31,
      "outputs": [
        {
          "output_type": "execute_result",
          "data": {
            "text/plain": [
              "True"
            ]
          },
          "metadata": {
            "tags": []
          },
          "execution_count": 31
        }
      ]
    },
    {
      "metadata": {
        "id": "c7f7bZ3gmV_F",
        "colab_type": "code",
        "colab": {
          "base_uri": "https://localhost:8080/",
          "height": 33
        },
        "outputId": "3f7ad6f6-9bb0-4008-eea2-b8f6fed45efb"
      },
      "cell_type": "code",
      "source": [
        "min(salarios)"
      ],
      "execution_count": 32,
      "outputs": [
        {
          "output_type": "execute_result",
          "data": {
            "text/plain": [
              "800"
            ]
          },
          "metadata": {
            "tags": []
          },
          "execution_count": 32
        }
      ]
    },
    {
      "metadata": {
        "id": "jFdJPXRjmV8k",
        "colab_type": "code",
        "colab": {
          "base_uri": "https://localhost:8080/",
          "height": 33
        },
        "outputId": "5d6678ef-1f0a-4675-8c5b-d0f45deb5a75"
      },
      "cell_type": "code",
      "source": [
        "max(salarios)"
      ],
      "execution_count": 33,
      "outputs": [
        {
          "output_type": "execute_result",
          "data": {
            "text/plain": [
              "12587"
            ]
          },
          "metadata": {
            "tags": []
          },
          "execution_count": 33
        }
      ]
    },
    {
      "metadata": {
        "id": "nNC_sQS7mV6C",
        "colab_type": "code",
        "colab": {}
      },
      "cell_type": "code",
      "source": [
        "salarios.append(7000)"
      ],
      "execution_count": 0,
      "outputs": []
    },
    {
      "metadata": {
        "id": "2Sm7m9WAmV3k",
        "colab_type": "code",
        "colab": {}
      },
      "cell_type": "code",
      "source": [
        "salarios.extend([5000,30000])"
      ],
      "execution_count": 0,
      "outputs": []
    },
    {
      "metadata": {
        "id": "Y9LyLaopmVtc",
        "colab_type": "code",
        "colab": {
          "base_uri": "https://localhost:8080/",
          "height": 33
        },
        "outputId": "17b40b6a-0bbc-4078-f70c-5223f467a90e"
      },
      "cell_type": "code",
      "source": [
        "salarios.index(800)"
      ],
      "execution_count": 36,
      "outputs": [
        {
          "output_type": "execute_result",
          "data": {
            "text/plain": [
              "3"
            ]
          },
          "metadata": {
            "tags": []
          },
          "execution_count": 36
        }
      ]
    },
    {
      "metadata": {
        "id": "rHag2Kw8nV_M",
        "colab_type": "code",
        "colab": {
          "base_uri": "https://localhost:8080/",
          "height": 33
        },
        "outputId": "773e7ebe-94fb-495f-8344-9e50b541c957"
      },
      "cell_type": "code",
      "source": [
        "salarios"
      ],
      "execution_count": 37,
      "outputs": [
        {
          "output_type": "execute_result",
          "data": {
            "text/plain": [
              "[900, 1200, 1500, 800, 12587, 10000, 7000, 5000, 30000]"
            ]
          },
          "metadata": {
            "tags": []
          },
          "execution_count": 37
        }
      ]
    },
    {
      "metadata": {
        "id": "kBFeNhxMm1Ik",
        "colab_type": "code",
        "colab": {
          "base_uri": "https://localhost:8080/",
          "height": 33
        },
        "outputId": "2189281b-f476-4ba6-a245-03aa7837585a"
      },
      "cell_type": "code",
      "source": [
        "salarios.sort(key=int,reverse=True)\n",
        "salarios"
      ],
      "execution_count": 40,
      "outputs": [
        {
          "output_type": "execute_result",
          "data": {
            "text/plain": [
              "[30000, 12587, 10000, 7000, 5000, 1500, 1200, 900, 800]"
            ]
          },
          "metadata": {
            "tags": []
          },
          "execution_count": 40
        }
      ]
    },
    {
      "metadata": {
        "id": "fOQKEJ_1nlpe",
        "colab_type": "code",
        "colab": {
          "base_uri": "https://localhost:8080/",
          "height": 33
        },
        "outputId": "55d61928-150e-49d9-e92b-52811a93471f"
      },
      "cell_type": "code",
      "source": [
        "salarios.sort(key=int,reverse=False)\n",
        "salarios"
      ],
      "execution_count": 41,
      "outputs": [
        {
          "output_type": "execute_result",
          "data": {
            "text/plain": [
              "[800, 900, 1200, 1500, 5000, 7000, 10000, 12587, 30000]"
            ]
          },
          "metadata": {
            "tags": []
          },
          "execution_count": 41
        }
      ]
    },
    {
      "metadata": {
        "id": "DG1zemIQjc9Z",
        "colab_type": "text"
      },
      "cell_type": "markdown",
      "source": [
        "3) Trabalhando com dicionários:\n",
        "- a) Crie um dicionário para armazenar o nome e a idade de pessoas, Exemplo:\n",
        "    pessoas = {'Rodrigo':30, 'Fulana':18}\n",
        "- b) Imprima a idade da pessoa \"Fulana\"\n",
        "- c) Imprima as Chaves do dicionario criado anteriormente.\n",
        "- d) Imprima os valores das chaves do dicionário\n",
        "- e) Busque a chave \"Felipe\" se ela não existe insira esta e o valor 30 (obs: use o método setdefault())"
      ]
    },
    {
      "metadata": {
        "id": "zZcLV9Sjnr3m",
        "colab_type": "code",
        "colab": {}
      },
      "cell_type": "code",
      "source": [
        "pessoas = {'Rodrigo':30, 'Fulana':18}"
      ],
      "execution_count": 0,
      "outputs": []
    },
    {
      "metadata": {
        "id": "Zh4Asjrlnv61",
        "colab_type": "code",
        "colab": {
          "base_uri": "https://localhost:8080/",
          "height": 33
        },
        "outputId": "56bff044-1277-4899-f28c-aa52156b0a7d"
      },
      "cell_type": "code",
      "source": [
        "pessoas['Fulana']"
      ],
      "execution_count": 44,
      "outputs": [
        {
          "output_type": "execute_result",
          "data": {
            "text/plain": [
              "18"
            ]
          },
          "metadata": {
            "tags": []
          },
          "execution_count": 44
        }
      ]
    },
    {
      "metadata": {
        "id": "GAnu4zf_nv4k",
        "colab_type": "code",
        "colab": {
          "base_uri": "https://localhost:8080/",
          "height": 33
        },
        "outputId": "c2970150-b42a-4409-a3a6-918c33a20a06"
      },
      "cell_type": "code",
      "source": [
        "pessoas.keys()"
      ],
      "execution_count": 46,
      "outputs": [
        {
          "output_type": "execute_result",
          "data": {
            "text/plain": [
              "dict_keys(['Rodrigo', 'Fulana'])"
            ]
          },
          "metadata": {
            "tags": []
          },
          "execution_count": 46
        }
      ]
    },
    {
      "metadata": {
        "id": "Ts8k4j68nv1-",
        "colab_type": "code",
        "colab": {
          "base_uri": "https://localhost:8080/",
          "height": 33
        },
        "outputId": "27f73440-6d31-4a67-f513-cd7fccfa9323"
      },
      "cell_type": "code",
      "source": [
        "pessoas.values()"
      ],
      "execution_count": 47,
      "outputs": [
        {
          "output_type": "execute_result",
          "data": {
            "text/plain": [
              "dict_values([30, 18])"
            ]
          },
          "metadata": {
            "tags": []
          },
          "execution_count": 47
        }
      ]
    },
    {
      "metadata": {
        "id": "DW0dfL1wnvze",
        "colab_type": "code",
        "colab": {
          "base_uri": "https://localhost:8080/",
          "height": 33
        },
        "outputId": "6b35bf44-4c45-47cb-8f3c-448f646c153f"
      },
      "cell_type": "code",
      "source": [
        "pessoas.setdefault('Felipe',30)"
      ],
      "execution_count": 48,
      "outputs": [
        {
          "output_type": "execute_result",
          "data": {
            "text/plain": [
              "30"
            ]
          },
          "metadata": {
            "tags": []
          },
          "execution_count": 48
        }
      ]
    },
    {
      "metadata": {
        "id": "ZNebofHpjc9b",
        "colab_type": "text"
      },
      "cell_type": "markdown",
      "source": [
        "4) Estruturas condicionais:\n",
        "- a) Verifique se 5 é maior que 1, se sim, imprima \"5 é maior que 1\"\n",
        "- b) crie as variávies x1 e y1, defina dois valores quaisquer para as duas variáveis. \n",
        "  Verifique se x1 é maior que y1. Se sim, imprima \"x1 é maior que y1\", senão imprima: \"y1 é maior que x1\"\n",
        "- c) Crie uma lista de valores como [2,3,4,5,6,7] e faça um loop para imprimir todos os valores na tela multiplicados por 2."
      ]
    },
    {
      "metadata": {
        "id": "gvJBm5KzoMp9",
        "colab_type": "code",
        "colab": {
          "base_uri": "https://localhost:8080/",
          "height": 33
        },
        "outputId": "e11907e8-49aa-49e9-fbe2-2fcdb47f231f"
      },
      "cell_type": "code",
      "source": [
        "if 5 > 1:\n",
        "  print(\"5 é maior que 1\")"
      ],
      "execution_count": 49,
      "outputs": [
        {
          "output_type": "stream",
          "text": [
            "5 é maior que 1\n"
          ],
          "name": "stdout"
        }
      ]
    },
    {
      "metadata": {
        "id": "SugNwgphoMnf",
        "colab_type": "code",
        "colab": {
          "base_uri": "https://localhost:8080/",
          "height": 33
        },
        "outputId": "9fe10c27-18d2-4abe-89a2-14d53f56f49a"
      },
      "cell_type": "code",
      "source": [
        "x1 = 20\n",
        "y1 = 10\n",
        "if x1 > y1 :\n",
        "  print(\"x1 maior que y1\")\n",
        "else:\n",
        "  print(\"y1 maior que x1\")"
      ],
      "execution_count": 50,
      "outputs": [
        {
          "output_type": "stream",
          "text": [
            "x1 maior que y1\n"
          ],
          "name": "stdout"
        }
      ]
    },
    {
      "metadata": {
        "id": "3k2GsrZooMUS",
        "colab_type": "code",
        "colab": {
          "base_uri": "https://localhost:8080/",
          "height": 116
        },
        "outputId": "4654153a-c483-4080-a4a0-a943caacdb0b"
      },
      "cell_type": "code",
      "source": [
        "list =  [2,3,4,5,6,7]\n",
        "for i in list:\n",
        "  print(i*2)"
      ],
      "execution_count": 51,
      "outputs": [
        {
          "output_type": "stream",
          "text": [
            "4\n",
            "6\n",
            "8\n",
            "10\n",
            "12\n",
            "14\n"
          ],
          "name": "stdout"
        }
      ]
    },
    {
      "metadata": {
        "id": "qg9hmHspjc9e",
        "colab_type": "text"
      },
      "cell_type": "markdown",
      "source": [
        "- Ao concluir, salve seu notebook e envie suas respostas para **contato@minerandodados.com.br**"
      ]
    }
  ]
}