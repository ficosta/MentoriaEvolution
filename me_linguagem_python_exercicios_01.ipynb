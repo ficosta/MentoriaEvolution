{
  "nbformat": 4,
  "nbformat_minor": 0,
  "metadata": {
    "colab": {
      "name": "me-linguagem-python-exercicios-01.ipynb",
      "version": "0.3.2",
      "provenance": [],
      "include_colab_link": true
    },
    "kernelspec": {
      "display_name": "Python 3",
      "language": "python",
      "name": "python3"
    }
  },
  "cells": [
    {
      "cell_type": "markdown",
      "metadata": {
        "id": "view-in-github",
        "colab_type": "text"
      },
      "source": [
        "<a href=\"https://colab.research.google.com/github/ficosta/MentoriaEvolution/blob/master/me_linguagem_python_exercicios_01.ipynb\" target=\"_parent\"><img src=\"https://colab.research.google.com/assets/colab-badge.svg\" alt=\"Open In Colab\"/></a>"
      ]
    },
    {
      "metadata": {
        "id": "WZtBeWYDqTPC",
        "colab_type": "text"
      },
      "cell_type": "markdown",
      "source": [
        "# Mentoria Evolution - Exercícios Python"
      ]
    },
    {
      "metadata": {
        "id": "jMjcP2EhqTPE",
        "colab_type": "text"
      },
      "cell_type": "markdown",
      "source": [
        "https://minerandodados.com.br"
      ]
    },
    {
      "metadata": {
        "id": "U-UZAOjWqTPF",
        "colab_type": "text"
      },
      "cell_type": "markdown",
      "source": [
        "* Para executar uma célula digite **Control + enter** ou clique em **Run**.\n",
        "* As celulas para rodar script Python devem ser do tipo code.\n",
        "* Crie células abaixo das celulas que foram escrito o enunciado das questões com as respostas."
      ]
    },
    {
      "metadata": {
        "id": "oGMD06WWqTPH",
        "colab_type": "text"
      },
      "cell_type": "markdown",
      "source": [
        "**Obs**: Caso de dúvidas, volte na aula anterior de Python. Não desista :)"
      ]
    },
    {
      "metadata": {
        "id": "ECasuCVQqTPJ",
        "colab_type": "text"
      },
      "cell_type": "markdown",
      "source": [
        "## Exercícios de Fixação"
      ]
    },
    {
      "metadata": {
        "id": "BUmK1BPzqTPK",
        "colab_type": "text"
      },
      "cell_type": "markdown",
      "source": [
        "1) Imprima a frase **\"Eu sou Minerador de Dados!\"**"
      ]
    },
    {
      "metadata": {
        "id": "Af9Ie3FYqTPM",
        "colab_type": "code",
        "outputId": "d6deb196-4818-4996-caec-0289046be3dd",
        "colab": {
          "base_uri": "https://localhost:8080/",
          "height": 34
        }
      },
      "cell_type": "code",
      "source": [
        "print(\"Eu sou Minerador de Dados\")"
      ],
      "execution_count": 0,
      "outputs": [
        {
          "output_type": "stream",
          "text": [
            "Eu sou Minerador de Dados\n"
          ],
          "name": "stdout"
        }
      ]
    },
    {
      "metadata": {
        "id": "cEgG9MGWqTPY",
        "colab_type": "text"
      },
      "cell_type": "markdown",
      "source": [
        "2) Faça operações matemáticas de soma, subtração, multiplicação e divisão."
      ]
    },
    {
      "metadata": {
        "id": "w8UHoMRFqiDx",
        "colab_type": "code",
        "outputId": "6708b4e6-22e4-4e66-efb7-127f580ccf36",
        "colab": {
          "base_uri": "https://localhost:8080/",
          "height": 34
        }
      },
      "cell_type": "code",
      "source": [
        "5+5"
      ],
      "execution_count": 0,
      "outputs": [
        {
          "output_type": "execute_result",
          "data": {
            "text/plain": [
              "10"
            ]
          },
          "metadata": {
            "tags": []
          },
          "execution_count": 3
        }
      ]
    },
    {
      "metadata": {
        "id": "V7FP7UcNqmg8",
        "colab_type": "code",
        "outputId": "c5c5599c-8524-4541-f5dc-03fb81129a48",
        "colab": {
          "base_uri": "https://localhost:8080/",
          "height": 34
        }
      },
      "cell_type": "code",
      "source": [
        "5-2"
      ],
      "execution_count": 0,
      "outputs": [
        {
          "output_type": "execute_result",
          "data": {
            "text/plain": [
              "3"
            ]
          },
          "metadata": {
            "tags": []
          },
          "execution_count": 4
        }
      ]
    },
    {
      "metadata": {
        "id": "xa2FHIkjqTPZ",
        "colab_type": "text"
      },
      "cell_type": "markdown",
      "source": [
        "3) Imprima o tipo de um determinado do valor **10**."
      ]
    },
    {
      "metadata": {
        "id": "9i6tU6jsqp7C",
        "colab_type": "code",
        "outputId": "7750a9c3-f1cf-4bcb-c5d4-fb1a055e8339",
        "colab": {
          "base_uri": "https://localhost:8080/",
          "height": 34
        }
      },
      "cell_type": "code",
      "source": [
        "type(10)"
      ],
      "execution_count": 0,
      "outputs": [
        {
          "output_type": "execute_result",
          "data": {
            "text/plain": [
              "int"
            ]
          },
          "metadata": {
            "tags": []
          },
          "execution_count": 5
        }
      ]
    },
    {
      "metadata": {
        "id": "0zpdpKE9qTPa",
        "colab_type": "text"
      },
      "cell_type": "markdown",
      "source": [
        "4) Converta o valor passado anteriormente para o tipo **float**"
      ]
    },
    {
      "metadata": {
        "id": "NCUr-JGnrulE",
        "colab_type": "code",
        "outputId": "8789beea-18a6-4d8e-bdb2-02c24e782d81",
        "colab": {
          "base_uri": "https://localhost:8080/",
          "height": 34
        }
      },
      "cell_type": "code",
      "source": [
        "float(10)"
      ],
      "execution_count": 0,
      "outputs": [
        {
          "output_type": "execute_result",
          "data": {
            "text/plain": [
              "10.0"
            ]
          },
          "metadata": {
            "tags": []
          },
          "execution_count": 6
        }
      ]
    },
    {
      "metadata": {
        "id": "Nri3oAPFqTPc",
        "colab_type": "text"
      },
      "cell_type": "markdown",
      "source": [
        "5) Faça a conversão do valor float recebido anteriormente para o tipo **string**"
      ]
    },
    {
      "metadata": {
        "id": "jBq4xVR9sAQR",
        "colab_type": "code",
        "outputId": "753593d8-3f56-4efd-bfc6-b794ba364bc4",
        "colab": {
          "base_uri": "https://localhost:8080/",
          "height": 34
        }
      },
      "cell_type": "code",
      "source": [
        "str(10.0)"
      ],
      "execution_count": 0,
      "outputs": [
        {
          "output_type": "execute_result",
          "data": {
            "text/plain": [
              "'10.0'"
            ]
          },
          "metadata": {
            "tags": []
          },
          "execution_count": 7
        }
      ]
    },
    {
      "metadata": {
        "id": "Gng8cyCrqTPd",
        "colab_type": "text"
      },
      "cell_type": "markdown",
      "source": [
        "6) Utilizando variáveis faça:\n",
        "- a) Defina uma variável com o **seu nome** e imprima o seu valor.\n",
        "- b) Imprima o **tipo** dessa variável.\n",
        "- c) Substitua o valor da sua variável nome com a concatenação do seu valor e o seu sobrenome, depois, imprima o novo valor.\n",
        "    - obs: O resultado dessa variável será Nome Sobrenome, exemplo, **Felipe Santana**.\n",
        "- d) Defina duas variaveis com os valores do seu email e idade com apenas uma linha de comando, depois, imprima seus valores."
      ]
    },
    {
      "metadata": {
        "id": "urcngFMgsEXo",
        "colab_type": "code",
        "outputId": "4040a47f-284d-4d69-dc3d-81be81948f36",
        "colab": {
          "base_uri": "https://localhost:8080/",
          "height": 34
        }
      },
      "cell_type": "code",
      "source": [
        "nome = 'Felipe'\n",
        "print(nome)"
      ],
      "execution_count": 0,
      "outputs": [
        {
          "output_type": "stream",
          "text": [
            "Felipe\n"
          ],
          "name": "stdout"
        }
      ]
    },
    {
      "metadata": {
        "id": "_4zds8eksEK5",
        "colab_type": "code",
        "outputId": "29041f5c-b67e-44fe-fc96-8b10e67b6bf3",
        "colab": {
          "base_uri": "https://localhost:8080/",
          "height": 34
        }
      },
      "cell_type": "code",
      "source": [
        "type(nome)"
      ],
      "execution_count": 0,
      "outputs": [
        {
          "output_type": "execute_result",
          "data": {
            "text/plain": [
              "str"
            ]
          },
          "metadata": {
            "tags": []
          },
          "execution_count": 14
        }
      ]
    },
    {
      "metadata": {
        "id": "v33S3v7ksD4i",
        "colab_type": "code",
        "outputId": "ea73dccb-03ce-42dc-e433-0ca7bb7420c9",
        "colab": {
          "base_uri": "https://localhost:8080/",
          "height": 34
        }
      },
      "cell_type": "code",
      "source": [
        "nome = nome + ' Iasi'\n",
        "print(nome)"
      ],
      "execution_count": 0,
      "outputs": [
        {
          "output_type": "stream",
          "text": [
            "Felipe Iasi\n"
          ],
          "name": "stdout"
        }
      ]
    },
    {
      "metadata": {
        "id": "AxDshAK3sZ_k",
        "colab_type": "code",
        "colab": {}
      },
      "cell_type": "code",
      "source": [
        "email, idade = 'felipeiasi@gmail.com' , 31"
      ],
      "execution_count": 0,
      "outputs": []
    },
    {
      "metadata": {
        "id": "ThURZNWdsZ2M",
        "colab_type": "code",
        "outputId": "ab96a2ac-3e1c-4032-a9fb-d12970492910",
        "colab": {
          "base_uri": "https://localhost:8080/",
          "height": 34
        }
      },
      "cell_type": "code",
      "source": [
        "print(email)"
      ],
      "execution_count": 0,
      "outputs": [
        {
          "output_type": "stream",
          "text": [
            "felipeiasi@gmail.com\n"
          ],
          "name": "stdout"
        }
      ]
    },
    {
      "metadata": {
        "id": "KSXQZm5isZqe",
        "colab_type": "code",
        "outputId": "2c22c122-58bc-4016-c90f-80bfd1f3500c",
        "colab": {
          "base_uri": "https://localhost:8080/",
          "height": 34
        }
      },
      "cell_type": "code",
      "source": [
        "print(idade)"
      ],
      "execution_count": 0,
      "outputs": [
        {
          "output_type": "stream",
          "text": [
            "31\n"
          ],
          "name": "stdout"
        }
      ]
    },
    {
      "metadata": {
        "id": "MWRF96-dqTPf",
        "colab_type": "text"
      },
      "cell_type": "markdown",
      "source": [
        "7) Utilizando funções de arredonamento faça:\n",
        "- a) Arredonde o valor 2.898\n",
        "- b) Arredonde o valor 2.4545455 e exiba apenas 4 cadas decimais"
      ]
    },
    {
      "metadata": {
        "id": "VIwKDwyVsrHJ",
        "colab_type": "code",
        "outputId": "028de715-66be-4941-c8fc-a72be16a2011",
        "colab": {
          "base_uri": "https://localhost:8080/",
          "height": 34
        }
      },
      "cell_type": "code",
      "source": [
        "round(2.898,2)"
      ],
      "execution_count": 0,
      "outputs": [
        {
          "output_type": "execute_result",
          "data": {
            "text/plain": [
              "2.9"
            ]
          },
          "metadata": {
            "tags": []
          },
          "execution_count": 24
        }
      ]
    },
    {
      "metadata": {
        "id": "Yn1Kbrwhs-bc",
        "colab_type": "code",
        "outputId": "04a1b9f4-2354-4a33-eba7-a2f42c6c2805",
        "colab": {
          "base_uri": "https://localhost:8080/",
          "height": 34
        }
      },
      "cell_type": "code",
      "source": [
        "round(2.4545455,4)"
      ],
      "execution_count": 0,
      "outputs": [
        {
          "output_type": "execute_result",
          "data": {
            "text/plain": [
              "2.4545"
            ]
          },
          "metadata": {
            "tags": []
          },
          "execution_count": 25
        }
      ]
    },
    {
      "metadata": {
        "id": "GmQusFZkqTPh",
        "colab_type": "text"
      },
      "cell_type": "markdown",
      "source": [
        "9) Sobre os objetos Strings, faça:\n",
        "- a) Defina uma variavel com a string: \"Python é uma maldição!\" e imprima\n",
        "- b) Imprima o primeiro caracter da variavel.\n",
        "- c) Imprima os valores do primeiro caracter até o 6.\n",
        "- d) Faça a contagem de todos os caracteres utilizando uma única linha de comando.\n",
        "- e) Faça uma contagem de quantas vezes a palavra dados aparece na seguinte frase:\n",
        "    - \"dados é o novo petróleo, em Deus eu confio, para o resto me traga dados..\"\n",
        "    - Obs: Crie uma variável chamada \"frase\" com a frase acima.\n",
        "- f) Substitua o primeiro caracter da frase acima para maiúsculo\n",
        "- g) Quebre as palavras da frase separado por virgula, criando uma lista."
      ]
    },
    {
      "metadata": {
        "id": "QXIVawYjtOmk",
        "colab_type": "code",
        "colab": {}
      },
      "cell_type": "code",
      "source": [
        "variavel = 'Python é uma maldição!'"
      ],
      "execution_count": 0,
      "outputs": []
    },
    {
      "metadata": {
        "id": "aiP_MytxtPln",
        "colab_type": "code",
        "outputId": "ebc362df-eaf9-4b07-96fe-62ce3d415370",
        "colab": {
          "base_uri": "https://localhost:8080/",
          "height": 34
        }
      },
      "cell_type": "code",
      "source": [
        "print(variavel[0])"
      ],
      "execution_count": 0,
      "outputs": [
        {
          "output_type": "stream",
          "text": [
            "P\n"
          ],
          "name": "stdout"
        }
      ]
    },
    {
      "metadata": {
        "id": "ozu8FjiGtPgn",
        "colab_type": "code",
        "outputId": "aa567c42-2cce-4589-b33e-f68c43d20054",
        "colab": {
          "base_uri": "https://localhost:8080/",
          "height": 34
        }
      },
      "cell_type": "code",
      "source": [
        "print(variavel[0:6])"
      ],
      "execution_count": 0,
      "outputs": [
        {
          "output_type": "stream",
          "text": [
            "Python\n"
          ],
          "name": "stdout"
        }
      ]
    },
    {
      "metadata": {
        "id": "iGS_HD6-tOfC",
        "colab_type": "code",
        "outputId": "302cb84f-623e-4bcc-d85e-14c9426492fe",
        "colab": {
          "base_uri": "https://localhost:8080/",
          "height": 34
        }
      },
      "cell_type": "code",
      "source": [
        "len(variavel)"
      ],
      "execution_count": 0,
      "outputs": [
        {
          "output_type": "execute_result",
          "data": {
            "text/plain": [
              "22"
            ]
          },
          "metadata": {
            "tags": []
          },
          "execution_count": 30
        }
      ]
    },
    {
      "metadata": {
        "id": "EAR1Tb-6tOca",
        "colab_type": "code",
        "outputId": "4dc5c185-5f77-419b-caef-adb8d7a265a5",
        "colab": {
          "base_uri": "https://localhost:8080/",
          "height": 34
        }
      },
      "cell_type": "code",
      "source": [
        "frase = 'dados é o novo petróleo, em Deus eu confio, para o resto me traga dados..'\n",
        "frase.count('dados')"
      ],
      "execution_count": 33,
      "outputs": [
        {
          "output_type": "execute_result",
          "data": {
            "text/plain": [
              "2"
            ]
          },
          "metadata": {
            "tags": []
          },
          "execution_count": 33
        }
      ]
    },
    {
      "metadata": {
        "id": "vbP8x93vtOZx",
        "colab_type": "code",
        "colab": {
          "base_uri": "https://localhost:8080/",
          "height": 34
        },
        "outputId": "1277e989-a1b7-495b-9f5d-68883020b0c8"
      },
      "cell_type": "code",
      "source": [
        "frase.capitalize()"
      ],
      "execution_count": 34,
      "outputs": [
        {
          "output_type": "execute_result",
          "data": {
            "text/plain": [
              "'Dados é o novo petróleo, em deus eu confio, para o resto me traga dados..'"
            ]
          },
          "metadata": {
            "tags": []
          },
          "execution_count": 34
        }
      ]
    },
    {
      "metadata": {
        "id": "s4yPTEQztOXA",
        "colab_type": "code",
        "colab": {
          "base_uri": "https://localhost:8080/",
          "height": 272
        },
        "outputId": "bcf82409-56f1-4e8e-992f-5bd908d16fe8"
      },
      "cell_type": "code",
      "source": [
        "frase.split()"
      ],
      "execution_count": 35,
      "outputs": [
        {
          "output_type": "execute_result",
          "data": {
            "text/plain": [
              "['dados',\n",
              " 'é',\n",
              " 'o',\n",
              " 'novo',\n",
              " 'petróleo,',\n",
              " 'em',\n",
              " 'Deus',\n",
              " 'eu',\n",
              " 'confio,',\n",
              " 'para',\n",
              " 'o',\n",
              " 'resto',\n",
              " 'me',\n",
              " 'traga',\n",
              " 'dados..']"
            ]
          },
          "metadata": {
            "tags": []
          },
          "execution_count": 35
        }
      ]
    },
    {
      "metadata": {
        "id": "eJY-m_mDtOON",
        "colab_type": "code",
        "colab": {}
      },
      "cell_type": "code",
      "source": [
        ""
      ],
      "execution_count": 0,
      "outputs": []
    },
    {
      "metadata": {
        "id": "wmGu08z7qTPj",
        "colab_type": "text"
      },
      "cell_type": "markdown",
      "source": [
        "- Ao concluir, salve seu notebook e envie suas respostas para **contato@minerandodados.com.br**"
      ]
    }
  ]
}